{
 "cells": [
  {
   "cell_type": "code",
   "execution_count": 14,
   "id": "owned-barrel",
   "metadata": {},
   "outputs": [],
   "source": [
    "import numpy as np\n",
    "import pandas as pd\n",
    "import time \n",
    "import openpyxl\n",
    "\n",
    "from IPython.core.interactiveshell import InteractiveShell\n",
    "InteractiveShell.ast_node_interactivity = \"all\"\n"
   ]
  },
  {
   "cell_type": "code",
   "execution_count": 15,
   "id": "nutritional-digest",
   "metadata": {},
   "outputs": [],
   "source": [
    "current = pd.read_csv('ticketmaster_current_dataset_investigate.csv')\n",
    "new = pd.read_csv('ticketmaster_new_dataset_investigate.csv')\n",
    "appended = pd.read_csv('ticketmaster_appended_dataset_investigate.csv')\n",
    "updated = pd.read_csv('ticketmaster_updated_dataset_investigate.csv')"
   ]
  },
  {
   "cell_type": "code",
   "execution_count": 16,
   "id": "federal-lying",
   "metadata": {},
   "outputs": [
    {
     "data": {
      "text/plain": [
       "(212, 61)"
      ]
     },
     "execution_count": 16,
     "metadata": {},
     "output_type": "execute_result"
    },
    {
     "data": {
      "text/plain": [
       "(192, 63)"
      ]
     },
     "execution_count": 16,
     "metadata": {},
     "output_type": "execute_result"
    },
    {
     "data": {
      "text/plain": [
       "(404, 63)"
      ]
     },
     "execution_count": 16,
     "metadata": {},
     "output_type": "execute_result"
    },
    {
     "data": {
      "text/plain": [
       "(192, 63)"
      ]
     },
     "execution_count": 16,
     "metadata": {},
     "output_type": "execute_result"
    }
   ],
   "source": [
    "current.shape\n",
    "new.shape\n",
    "appended.shape\n",
    "updated.shape"
   ]
  },
  {
   "cell_type": "code",
   "execution_count": 17,
   "id": "opponent-nitrogen",
   "metadata": {},
   "outputs": [],
   "source": [
    "events_in_original = list(current['event id'].unique())\n",
    "events_in_updated = list(updated['event id'].unique())\n",
    "\n",
    "events_in_original_but_not_in_updated = main_list = np.setdiff1d(events_in_original,events_in_updated) "
   ]
  },
  {
   "cell_type": "code",
   "execution_count": 19,
   "id": "aerial-starter",
   "metadata": {},
   "outputs": [],
   "source": [
    "current[current['event id'].isin(events_in_original_but_not_in_updated)].to_excel('investigate.xlsx')"
   ]
  },
  {
   "cell_type": "code",
   "execution_count": 20,
   "id": "hidden-cambodia",
   "metadata": {},
   "outputs": [],
   "source": [
    "appended[appended['event id'].isin(events_in_original_but_not_in_updated)].to_excel('investigate2.xlsx')"
   ]
  },
  {
   "cell_type": "code",
   "execution_count": null,
   "id": "every-spanking",
   "metadata": {},
   "outputs": [],
   "source": []
  }
 ],
 "metadata": {
  "kernelspec": {
   "display_name": "Python 3",
   "language": "python",
   "name": "python3"
  },
  "language_info": {
   "codemirror_mode": {
    "name": "ipython",
    "version": 3
   },
   "file_extension": ".py",
   "mimetype": "text/x-python",
   "name": "python",
   "nbconvert_exporter": "python",
   "pygments_lexer": "ipython3",
   "version": "3.8.7"
  }
 },
 "nbformat": 4,
 "nbformat_minor": 5
}
