{
 "cells": [
  {
   "cell_type": "code",
   "execution_count": 15,
   "id": "chicken-beach",
   "metadata": {},
   "outputs": [
    {
     "name": "stdout",
     "output_type": "stream",
     "text": [
      "<Response [404]>\n"
     ]
    }
   ],
   "source": [
    "import requests\n",
    "import json\n",
    "import docx\n",
    "import pandas as pd\n",
    "import numpy as np\n",
    "from datetime import datetime\n",
    "\n",
    "from IPython.core.interactiveshell import InteractiveShell\n",
    "InteractiveShell.ast_node_interactivity = \"all\"\n",
    "\n",
    "# api_key = input('Enter your API key')\n",
    "\n",
    "url = f'https://www.eventbriteapi.com/v3/venues/?token={api_key}'\n",
    "url = f'https://www.eventbriteapi.com/v3/events/search/?token={api_key}'\n",
    "\n",
    "# https://www.eventbriteapi.com/v3/events/search/?token=YOUR_TOKEN\n",
    "\n",
    "response = requests.get(url)\n",
    "print(response)\n",
    "data=response.text\n",
    "\n",
    "parsed = json.loads(data)\n",
    "\n",
    "# list_of_carolina_theater_events = parsed.get('_embedded').get('events')"
   ]
  },
  {
   "cell_type": "code",
   "execution_count": 13,
   "id": "forward-humidity",
   "metadata": {},
   "outputs": [
    {
     "data": {
      "text/plain": [
       "{'emails': [{'email': 'loukakisjohn@hotmail.com',\n",
       "   'verified': False,\n",
       "   'primary': True}],\n",
       " 'id': '140157407882',\n",
       " 'name': 'Ioannis Loukakis',\n",
       " 'first_name': 'Ioannis',\n",
       " 'last_name': 'Loukakis',\n",
       " 'is_public': False,\n",
       " 'image_id': None}"
      ]
     },
     "execution_count": 13,
     "metadata": {},
     "output_type": "execute_result"
    }
   ],
   "source": [
    "parsed"
   ]
  }
 ],
 "metadata": {
  "kernelspec": {
   "display_name": "Python 3",
   "language": "python",
   "name": "python3"
  },
  "language_info": {
   "codemirror_mode": {
    "name": "ipython",
    "version": 3
   },
   "file_extension": ".py",
   "mimetype": "text/x-python",
   "name": "python",
   "nbconvert_exporter": "python",
   "pygments_lexer": "ipython3",
   "version": "3.8.7"
  }
 },
 "nbformat": 4,
 "nbformat_minor": 5
}
