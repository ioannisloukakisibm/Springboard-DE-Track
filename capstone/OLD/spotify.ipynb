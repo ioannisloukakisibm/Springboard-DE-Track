{
 "cells": [
  {
   "cell_type": "code",
   "execution_count": 1,
   "id": "palestinian-institution",
   "metadata": {},
   "outputs": [],
   "source": [
    "import numpy as np\n",
    "import spotipy\n",
    "from spotipy.oauth2 import SpotifyClientCredentials\n",
    "import pandas as pd\n",
    "import time \n",
    "import requests\n",
    "import json\n",
    "\n",
    "from IPython.core.interactiveshell import InteractiveShell\n",
    "InteractiveShell.ast_node_interactivity = \"all\"\n",
    "\n",
    "from mpire import WorkerPool\n",
    "\n"
   ]
  },
  {
   "cell_type": "code",
   "execution_count": 2,
   "id": "veterinary-roman",
   "metadata": {},
   "outputs": [],
   "source": [
    "# # Documentation\n",
    "\n",
    "# Retrieveing data from spotify\n",
    "# https://medium.com/@rafaelnduarte/how-to-retrieve-data-from-spotify-110c859ab304\n",
    "# https://betterprogramming.pub/how-to-extract-any-artists-data-using-spotify-s-api-python-and-spotipy-4c079401bc37\n",
    "    \n",
    "# Spotipy documentation\n",
    "# https://spotipy.readthedocs.io/en/2.9.0/#\n",
    "    \n",
    "# Spotipy examples\n",
    "# https://github.com/plamere/spotipy/tree/master/examples\n",
    "\n",
    "# Great analysis of audio data\n",
    "# https://medium.com/@FinchMF/praise-questions-and-critique-spotify-api-38e984a4174b\n",
    "\n",
    "# # Other API IDeas\n",
    "# Breaking news and yahoo finance\n",
    "# Deezer\n",
    "# Spotify\n",
    "# https://rapidapi.com/search/spotify\n",
    "# https://rapidapi.com/theaudiodb/api/theaudiodb\n",
    "# https://rapidapi.com/dimashirokov/api/LastFm\n"
   ]
  },
  {
   "cell_type": "code",
   "execution_count": 3,
   "id": "african-syndrome",
   "metadata": {},
   "outputs": [],
   "source": [
    "client_id = '624ce7dd9a424b858e2ea4e3b19229fc'\n",
    "client_secret = 'd6713dd18f0345e9b1709ab8420daa66'\n",
    "\n",
    "# In the code above, replace the Client ID and Client Secret variables with your own and make sure they are inside quotes.\n",
    "\n",
    "client_credentials_manager = SpotifyClientCredentials(client_id, client_secret)\n",
    "sp = spotipy.Spotify(client_credentials_manager=client_credentials_manager)"
   ]
  },
  {
   "cell_type": "code",
   "execution_count": 4,
   "id": "capital-subscriber",
   "metadata": {},
   "outputs": [
    {
     "data": {
      "text/plain": [
       "50"
      ]
     },
     "execution_count": 4,
     "metadata": {},
     "output_type": "execute_result"
    }
   ],
   "source": [
    "response = sp.search(q='year:2020', type='track', limit=50)\n",
    "len(response.get('tracks').get('items'))"
   ]
  },
  {
   "cell_type": "code",
   "execution_count": 5,
   "id": "sunrise-strip",
   "metadata": {},
   "outputs": [
    {
     "data": {
      "text/plain": [
       "'0MlkZnfwsjwHHSfn07N8ao'"
      ]
     },
     "execution_count": 5,
     "metadata": {},
     "output_type": "execute_result"
    }
   ],
   "source": [
    "response.get('tracks').get('items')[1].get('id')"
   ]
  },
  {
   "cell_type": "code",
   "execution_count": 6,
   "id": "intelligent-external",
   "metadata": {},
   "outputs": [],
   "source": [
    "# create empty lists where the results are going to be stored\n",
    "def retrieve_track_ids(year):\n",
    "    list_ = []\n",
    "    for i in range(0,100000,50):\n",
    "        try:\n",
    "            track_results = sp.search(q=f'year:{year}', type='track', limit=50,offset=i, market='US')\n",
    "            for i in range(len(track_results.get('tracks').get('items'))):\n",
    "                list_.append(track_results.get('tracks').get('items')[i].get('id'))\n",
    "            time.sleep(.5)\n",
    "        except:\n",
    "            break\n",
    "    return list_"
   ]
  },
  {
   "cell_type": "code",
   "execution_count": 9,
   "id": "vulnerable-anger",
   "metadata": {},
   "outputs": [
    {
     "name": "stderr",
     "output_type": "stream",
     "text": [
      "HTTP Error for GET to https://api.spotify.com/v1/search returned 404 due to Not found.\n",
      "HTTP Error for GET to https://api.spotify.com/v1/search returned 404 due to Not found.\n",
      "HTTP Error for GET to https://api.spotify.com/v1/search returned 404 due to Not found.\n",
      "HTTP Error for GET to https://api.spotify.com/v1/search returned 404 due to Not found.\n",
      "HTTP Error for GET to https://api.spotify.com/v1/search returned 404 due to Not found.\n",
      "HTTP Error for GET to https://api.spotify.com/v1/search returned 404 due to Not found.\n",
      "HTTP Error for GET to https://api.spotify.com/v1/search returned 404 due to Not found.\n",
      "HTTP Error for GET to https://api.spotify.com/v1/search returned 404 due to Not found.\n",
      "HTTP Error for GET to https://api.spotify.com/v1/search returned 404 due to Not found.\n",
      "HTTP Error for GET to https://api.spotify.com/v1/search returned 404 due to Not found.\n",
      "HTTP Error for GET to https://api.spotify.com/v1/search returned 404 due to Not found.\n",
      "HTTP Error for GET to https://api.spotify.com/v1/search returned 404 due to Not found.\n",
      "HTTP Error for GET to https://api.spotify.com/v1/search returned 404 due to Not found.\n",
      "HTTP Error for GET to https://api.spotify.com/v1/search returned 404 due to Not found.\n",
      "HTTP Error for GET to https://api.spotify.com/v1/search returned 404 due to Not found.\n",
      "HTTP Error for GET to https://api.spotify.com/v1/search returned 404 due to Not found.\n",
      "HTTP Error for GET to https://api.spotify.com/v1/search returned 404 due to Not found.\n",
      "HTTP Error for GET to https://api.spotify.com/v1/search returned 404 due to Not found.\n",
      "HTTP Error for GET to https://api.spotify.com/v1/search returned 404 due to Not found.\n",
      "HTTP Error for GET to https://api.spotify.com/v1/search returned 404 due to Not found.\n",
      "HTTP Error for GET to https://api.spotify.com/v1/search returned 404 due to Not found.\n",
      "HTTP Error for GET to https://api.spotify.com/v1/search returned 404 due to Not found.\n"
     ]
    },
    {
     "name": "stdout",
     "output_type": "stream",
     "text": [
      "Wall time: 5min 9s\n"
     ]
    }
   ],
   "source": [
    "%%time\n",
    "\n",
    "with WorkerPool(n_jobs=5) as pool:\n",
    "    year_list = list(np.arange(2000,2022))\n",
    "\n",
    "    track_ids = []\n",
    "\n",
    "    for year in year_list:\n",
    "        holder_list = []\n",
    "        holder_list = retrieve_track_ids(year)\n",
    "        track_ids.extend(holder_list)"
   ]
  },
  {
   "cell_type": "code",
   "execution_count": 10,
   "id": "social-technology",
   "metadata": {},
   "outputs": [
    {
     "data": {
      "text/plain": [
       "22000"
      ]
     },
     "execution_count": 10,
     "metadata": {},
     "output_type": "execute_result"
    }
   ],
   "source": [
    "len(track_ids)"
   ]
  },
  {
   "cell_type": "code",
   "execution_count": 8,
   "id": "owned-drove",
   "metadata": {},
   "outputs": [
    {
     "data": {
      "text/plain": [
       "22000"
      ]
     },
     "execution_count": 8,
     "metadata": {},
     "output_type": "execute_result"
    }
   ],
   "source": [
    "len(track_ids)"
   ]
  },
  {
   "cell_type": "code",
   "execution_count": null,
   "id": "banned-feature",
   "metadata": {},
   "outputs": [],
   "source": []
  },
  {
   "cell_type": "code",
   "execution_count": 11,
   "id": "clinical-liberty",
   "metadata": {},
   "outputs": [],
   "source": [
    "def getTrackFeatures(id):\n",
    "    meta = sp.track(id)\n",
    "    features = sp.audio_features(id)\n",
    "    audio_analysis = sp.audio_analysis(id)\n",
    "    \n",
    "    artist_url = meta['artists'][0][\"external_urls\"][\"spotify\"]\n",
    "    artist = sp.artist(artist_url)\n",
    "\n",
    "    album_url = meta['album'][\"external_urls\"][\"spotify\"]\n",
    "    album = sp.album(album_url)\n",
    "    \n",
    "    # album and artist info\n",
    "    artist_genres = artist[\"genres\"]\n",
    "    artist_popularity = artist[\"popularity\"]\n",
    "    artist_no_of_followers = artist[\"followers\"].get('total')\n",
    "    artist_type = artist[\"type\"]\n",
    "\n",
    "    album_label = album['label']\n",
    "    album_popularity = album['popularity']\n",
    "  \n",
    "    # meta\n",
    "    song_id = id \n",
    "    song_name = meta['name']\n",
    "    album = meta['album']['name']\n",
    "    artist = meta['album']['artists'][0]['name']\n",
    "    song_release_date = meta['album']['release_date']\n",
    "    length = meta['duration_ms']\n",
    "    song_popularity = meta['popularity']\n",
    "\n",
    "    # features\n",
    "    key = features[0]['key']\n",
    "    mode = features[0]['mode']\n",
    "    acousticness = features[0]['acousticness']\n",
    "    valence = features[0]['valence']\n",
    "    danceability = features[0]['danceability']\n",
    "    energy = features[0]['energy']\n",
    "    instrumentalness = features[0]['instrumentalness']\n",
    "    liveness = features[0]['liveness']\n",
    "    loudness = features[0]['loudness']\n",
    "    speechiness = features[0]['speechiness']\n",
    "    tempo = features[0]['tempo']\n",
    "    time_signature = features[0]['time_signature']\n",
    "    \n",
    "    tempo_confidence = audio_analysis.get('track').get('tempo_confidence')\n",
    "    key_confidence = audio_analysis.get('track').get('key_confidence')\n",
    "    time_signature_confidence = audio_analysis.get('track').get('time_signature_confidence')\n",
    "    mode_confidence = audio_analysis.get('track').get('mode_confidence')\n",
    "    rhythm_version = audio_analysis.get('track').get('rhythm_version')\n",
    "    synch_version = audio_analysis.get('track').get('synch_version')\n",
    "    number_of_segments = len(audio_analysis.get('segments'))\n",
    "    number_of_bars = len(audio_analysis.get('bars'))\n",
    "    number_of_beats = len(audio_analysis.get('beats'))\n",
    "    number_of_sections = len(audio_analysis.get('sections'))\n",
    "    number_of_tatums = len(audio_analysis.get('tatums'))\n",
    "\n",
    "    \n",
    "    track = [song_id, song_name, album, artist, artist_genres, artist_popularity, artist_no_of_followers, artist_type\n",
    "             ,album_label, album_popularity, song_release_date, length, song_popularity, key, mode\n",
    "             ,acousticness,valence, danceability, energy, instrumentalness, liveness, loudness, speechiness, tempo\n",
    "             ,time_signature, tempo_confidence, key_confidence, time_signature_confidence, mode_confidence\n",
    "             ,rhythm_version, synch_version, number_of_segments, number_of_bars, number_of_beats, number_of_sections\n",
    "            ,number_of_tatums \n",
    "]\n",
    "    return track"
   ]
  },
  {
   "cell_type": "code",
   "execution_count": 12,
   "id": "sustainable-inquiry",
   "metadata": {},
   "outputs": [
    {
     "name": "stderr",
     "output_type": "stream",
     "text": [
      "HTTP Error for GET to https://api.spotify.com/v1/audio-analysis/0rWrhQIdbzIb24obQil8Wi returned 404 due to analysis not found\n",
      "HTTP Error for GET to https://api.spotify.com/v1/audio-analysis/6MFQeWtk7kxWGydnJB2y36 returned 404 due to analysis not found\n",
      "HTTP Error for GET to https://api.spotify.com/v1/audio-analysis/5OGkKx8jP0A5KSULEc6XYZ returned 404 due to analysis not found\n",
      "Max Retries reached\n",
      "Max Retries reached\n",
      "Max Retries reached\n",
      "Max Retries reached\n",
      "Max Retries reached\n",
      "Max Retries reached\n",
      "Max Retries reached\n",
      "Max Retries reached\n",
      "Max Retries reached\n",
      "Max Retries reached\n",
      "Max Retries reached\n",
      "Max Retries reached\n",
      "Max Retries reached\n",
      "Max Retries reached\n",
      "Max Retries reached\n",
      "Max Retries reached\n",
      "Max Retries reached\n",
      "Max Retries reached\n",
      "Max Retries reached\n",
      "Max Retries reached\n",
      "Max Retries reached\n",
      "Max Retries reached\n",
      "Max Retries reached\n",
      "Max Retries reached\n",
      "Max Retries reached\n",
      "HTTP Error for GET to https://api.spotify.com/v1/audio-analysis/04boE4u1AupbrGlI62WvoO returned 404 due to analysis not found\n",
      "Max Retries reached\n",
      "Max Retries reached\n",
      "Max Retries reached\n",
      "Max Retries reached\n",
      "Max Retries reached\n",
      "Max Retries reached\n",
      "Max Retries reached\n",
      "Max Retries reached\n",
      "Max Retries reached\n",
      "HTTP Error for GET to https://api.spotify.com/v1/audio-analysis/0J0pwXwdiYAzvQctxhFzXY returned 404 due to analysis not found\n",
      "Max Retries reached\n",
      "Max Retries reached\n",
      "Max Retries reached\n",
      "Max Retries reached\n",
      "Max Retries reached\n",
      "Max Retries reached\n",
      "Max Retries reached\n",
      "Max Retries reached\n",
      "Max Retries reached\n",
      "Max Retries reached\n",
      "Max Retries reached\n",
      "HTTP Error for GET to https://api.spotify.com/v1/audio-analysis/4w0yZ5zdEw1ogOM8EONAfz returned 404 due to analysis not found\n",
      "Max Retries reached\n",
      "HTTP Error for GET to https://api.spotify.com/v1/audio-analysis/5iNrI16WkfbzuGqaxZCJBV returned 404 due to analysis not found\n",
      "HTTP Error for GET to https://api.spotify.com/v1/audio-analysis/5TmpvdtDQv8799ApMsQZNP returned 404 due to analysis not found\n",
      "HTTP Error for GET to https://api.spotify.com/v1/audio-analysis/4LaGu95Ui2s4vprSQYWUAZ returned 404 due to analysis not found\n",
      "HTTP Error for GET to https://api.spotify.com/v1/audio-analysis/0rWrhQIdbzIb24obQil8Wi returned 404 due to analysis not found\n"
     ]
    },
    {
     "name": "stdout",
     "output_type": "stream",
     "text": [
      "Wall time: 4h 47min\n"
     ]
    }
   ],
   "source": [
    "%%time\n",
    "\n",
    "# loop over track ids \n",
    "tracks = []\n",
    "\n",
    "with WorkerPool(n_jobs=5) as pool:\n",
    "    for i in range(len(track_ids)):\n",
    "    #     time.sleep(.5)\n",
    "        try:\n",
    "            track = getTrackFeatures(track_ids[i])\n",
    "            tracks.append(track)\n",
    "        except:\n",
    "            continue\n",
    "\n",
    "        \n",
    "# create dataset\n",
    "df = pd.DataFrame(tracks, columns = [\n",
    "    'song_id', 'song name', 'album', 'artist', 'artist genres', 'artist popularity', 'artist number of followers'\n",
    "    ,'artist type', 'album label', 'album popularity', 'song release date', 'length', 'song popularity'\n",
    "    ,'key', 'mode', 'acousticness','valence', 'danceability', 'energy', 'instrumentalness', 'liveness', 'loudness'\n",
    "    ,'speechiness','tempo', 'time signature', 'tempo confidence', 'key confidence', 'time signature confidence'\n",
    "    ,'mode confidence','rhythm version', 'synch version', 'number of segments', 'number of bars', 'number of beats'\n",
    "    ,'number of sections', 'number of tatums' \n",
    "])\n",
    "\n",
    "# Add a date of datapull\n",
    "today_timestamp = pd.to_datetime(\"today\")\n",
    "today_date = today_timestamp.date()\n",
    "df['date of data pull'] = today_date\n",
    "df['date of data pull'] = pd.to_datetime(df['date of data pull'])\n",
    "\n",
    "from sklearn.preprocessing import MultiLabelBinarizer\n",
    "\n",
    "mlb = MultiLabelBinarizer()\n",
    "\n",
    "artist_genres_dummies = pd.DataFrame(mlb.fit_transform(df['artist genres']),columns=mlb.classes_, index=df.index)\n",
    "\n",
    "final_df = pd.concat([df,artist_genres_dummies], axis = 1)\n",
    "\n",
    "final_df.to_csv(f\"spotify_{today_date}.csv\")"
   ]
  },
  {
   "cell_type": "code",
   "execution_count": 13,
   "id": "practical-composite",
   "metadata": {},
   "outputs": [
    {
     "data": {
      "text/plain": [
       "21936"
      ]
     },
     "execution_count": 13,
     "metadata": {},
     "output_type": "execute_result"
    }
   ],
   "source": [
    "len(tracks)"
   ]
  },
  {
   "cell_type": "code",
   "execution_count": 11,
   "id": "fluid-alcohol",
   "metadata": {},
   "outputs": [
    {
     "data": {
      "text/plain": [
       "21962"
      ]
     },
     "execution_count": 11,
     "metadata": {},
     "output_type": "execute_result"
    }
   ],
   "source": [
    "len(tracks)"
   ]
  },
  {
   "cell_type": "code",
   "execution_count": null,
   "id": "numeric-tablet",
   "metadata": {},
   "outputs": [],
   "source": []
  }
 ],
 "metadata": {
  "kernelspec": {
   "display_name": "Python 3",
   "language": "python",
   "name": "python3"
  },
  "language_info": {
   "codemirror_mode": {
    "name": "ipython",
    "version": 3
   },
   "file_extension": ".py",
   "mimetype": "text/x-python",
   "name": "python",
   "nbconvert_exporter": "python",
   "pygments_lexer": "ipython3",
   "version": "3.8.8"
  }
 },
 "nbformat": 4,
 "nbformat_minor": 5
}
