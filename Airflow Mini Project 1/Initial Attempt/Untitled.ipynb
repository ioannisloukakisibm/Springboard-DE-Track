{
 "cells": [
  {
   "cell_type": "code",
   "execution_count": 41,
   "id": "welcome-configuration",
   "metadata": {},
   "outputs": [],
   "source": [
    "import pandas as pd\n",
    "import numpy as np\n",
    "\n",
    "from IPython.core.interactiveshell import InteractiveShell\n",
    "InteractiveShell.ast_node_interactivity = \"all\"\n",
    "\n",
    "# Ignore harmless warnings\n",
    "import warnings\n",
    "warnings.filterwarnings(\"ignore\")\n",
    "\n",
    "from datetime import datetime, timedelta, date\n",
    "\n",
    "from airflow.models import DAG\n",
    "from airflow.operators.bash_operator import BashOperator\n",
    "from airflow.operators.python_operator import PythonOperator\n",
    "\n",
    "import yfinance as yf"
   ]
  },
  {
   "cell_type": "code",
   "execution_count": 42,
   "id": "reduced-bolivia",
   "metadata": {},
   "outputs": [],
   "source": [
    "default_args = {\n",
    "    'start_date':'2021-08-16'\n",
    "    ,'schedule_interval':'0 18 * * 1-5'\n",
    "    ,'retries': 2\n",
    "    ,'retry_delay': timedelta(minutes=5)\n",
    "}\n",
    "\n",
    "dag = DAG(\n",
    "'marketvol',\n",
    "default_args=default_args,\n",
    "description='A simple DAG',\n",
    ")"
   ]
  },
  {
   "cell_type": "code",
   "execution_count": 43,
   "id": "hourly-norway",
   "metadata": {},
   "outputs": [],
   "source": [
    "today = date.today()\n",
    "today = today.strftime(\"%y-%m-%d\")\n",
    "\n",
    "t0 = BashOperator(task_id = 'create_directory'\n",
    "                    ,bash_command = f'mkdir -p /tmp/data/{today}'\n",
    "                    ,dag = dag\n",
    "                    )\n",
    "\n",
    "# mkdir -p /tmp/data/2020-09-24"
   ]
  },
  {
   "cell_type": "code",
   "execution_count": 44,
   "id": "popular-harris",
   "metadata": {},
   "outputs": [],
   "source": [
    "def stock(stock_symbol):\n",
    "    start_date = date.today()\n",
    "    end_date = start_date + timedelta(days=1)\n",
    "    df = yf.download(stock_symbol, start=start_date, end=end_date, interval='1m')\n",
    "    df.to_csv(f\"{stock_symbol}_data.csv\", header=False)\n",
    "    return None"
   ]
  },
  {
   "cell_type": "code",
   "execution_count": null,
   "id": "nuclear-matrix",
   "metadata": {},
   "outputs": [],
   "source": [
    "t1 = PythonOperator(\n",
    "    task_id = 'download_apple'\n",
    "    ,python_callable = stock('AAPL')\n",
    "    ,dag=dag\n",
    ")\n",
    "\n",
    "\n",
    "t2 = PythonOperator(\n",
    "    task_id = 'download_tesla'\n",
    "    ,python_callable = stock('TSLA')\n",
    "    ,dag=dag\n",
    ")"
   ]
  },
  {
   "cell_type": "code",
   "execution_count": null,
   "id": "seven-proxy",
   "metadata": {},
   "outputs": [],
   "source": [
    "t3 = BashOperator(task_id = 'move_apple'\n",
    "                    ,bash_command = f'mkdir -p /tmp/data/{today}'\n",
    "                    ,dag = dag\n",
    "                    )"
   ]
  },
  {
   "cell_type": "code",
   "execution_count": null,
   "id": "ruled-howard",
   "metadata": {},
   "outputs": [],
   "source": []
  }
 ],
 "metadata": {
  "kernelspec": {
   "display_name": "Python 3",
   "language": "python",
   "name": "python3"
  },
  "language_info": {
   "codemirror_mode": {
    "name": "ipython",
    "version": 3
   },
   "file_extension": ".py",
   "mimetype": "text/x-python",
   "name": "python",
   "nbconvert_exporter": "python",
   "pygments_lexer": "ipython3",
   "version": "3.8.8"
  }
 },
 "nbformat": 4,
 "nbformat_minor": 5
}
