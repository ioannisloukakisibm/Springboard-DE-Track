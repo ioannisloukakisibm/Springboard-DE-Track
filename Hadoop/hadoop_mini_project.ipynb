{
 "cells": [
  {
   "cell_type": "code",
   "execution_count": null,
   "id": "resistant-wheat",
   "metadata": {},
   "outputs": [],
   "source": [
    "import sys"
   ]
  },
  {
   "cell_type": "code",
   "execution_count": null,
   "id": "alone-headset",
   "metadata": {},
   "outputs": [],
   "source": [
    "# input comes from STDIN (standard input)\n",
    "for line in sys.stdin:\n",
    "    \n",
    "# [derive mapper output key values]\n",
    "    line = line.strip()\n",
    "    incident_id, incident_type, vin_number, make, model, year, Incident_year, description= line.split(\",\")\n",
    "\n",
    "    results = [vin_number, incident_type, make, year]\n",
    "        \n",
    "    line = results.split('\\t')\n",
    "    make = results[1]\n",
    "    year = results[2]\n",
    "\n",
    "    print('%s\\t%s\\t%d' %(make,year,1))"
   ]
  },
  {
   "cell_type": "code",
   "execution_count": null,
   "id": "alleged-acting",
   "metadata": {},
   "outputs": [],
   "source": [
    "current_vin =  None\n",
    "vin = None\n",
    "make = None\n",
    "year = None\n",
    "accident= False\n",
    "\n",
    "def reset():\n",
    "# Run for end of every group\n",
    "    current_vin =  None\n",
    "    vin = None\n",
    "    make = None\n",
    "    year = None\n",
    "    accident=False\n",
    "    \n",
    "\n",
    "def flush():\n",
    "# input comes from STDIN\n",
    "for line in sys.stdin:\n",
    "# [parse the input we got from mapper and update the master info]\n",
    "\n",
    "    line = line.strip()\n",
    "\n",
    "    # [parse the input we got from mapper and update the master info]\n",
    "    line= line.split(\"\\t\")\n",
    "    vin = line[0]\n",
    "    incident_type= line[1]\n",
    "\n",
    "    \n",
    "    if current_vin == vin:\n",
    "        if incident_type == 'I':\n",
    "            make= line[2]\n",
    "            year= line[3]    \n",
    "        \n",
    "    \n",
    "    # [detect key changes]\n",
    "    if current_vin != vin:\n",
    "        if current_vin != None:\n",
    "            flush()\n",
    "        reset()\n",
    "         \n",
    "\n",
    "   # [update more master info after the key change handling]\n",
    "    if incident_type == 'I':\n",
    "        make= line[2]\n",
    "        year= line[3]  \n",
    "    current_vin = vin\n",
    "\n",
    "# do not forget to output the last group if needed!\n",
    "flush()"
   ]
  }
 ],
 "metadata": {
  "kernelspec": {
   "display_name": "Python 3",
   "language": "python",
   "name": "python3"
  },
  "language_info": {
   "codemirror_mode": {
    "name": "ipython",
    "version": 3
   },
   "file_extension": ".py",
   "mimetype": "text/x-python",
   "name": "python",
   "nbconvert_exporter": "python",
   "pygments_lexer": "ipython3",
   "version": "3.8.8"
  }
 },
 "nbformat": 4,
 "nbformat_minor": 5
}
