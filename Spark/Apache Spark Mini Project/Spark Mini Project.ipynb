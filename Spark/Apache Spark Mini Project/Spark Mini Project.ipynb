{
 "cells": [
  {
   "cell_type": "code",
   "execution_count": 1,
   "id": "harmful-thumbnail",
   "metadata": {},
   "outputs": [],
   "source": [
    "import findspark\n",
    "findspark.init()\n",
    "findspark.find()\n",
    "\n",
    "import pyspark\n",
    "findspark.find()\n",
    "\n",
    "from pyspark import SparkContext, SparkConf\n",
    "from pyspark.sql import SparkSession"
   ]
  },
  {
   "cell_type": "code",
   "execution_count": 2,
   "id": "diverse-terminology",
   "metadata": {},
   "outputs": [],
   "source": [
    "sc = SparkContext(\"local\", \"My Application\")"
   ]
  },
  {
   "cell_type": "code",
   "execution_count": 3,
   "id": "perceived-organization",
   "metadata": {},
   "outputs": [
    {
     "data": {
      "text/plain": [
       "['1,I,VXIO456XLBB630221,Nissan,Altima,2003,2002-05-08,Initial sales from TechMotors',\n",
       " '2,I,INU45KIOOPA343980,Mercedes,C300,2015,2014-01-01,Sold from EuroMotors',\n",
       " '3,A,VXIO456XLBB630221,,,,2014-07-02,Head on collision',\n",
       " '4,R,VXIO456XLBB630221,,,,2014-08-05,Repair transmission',\n",
       " '5,I,VOME254OOXW344325,Mercedes,E350,2015,2014-02-01,Sold from Carmax']"
      ]
     },
     "execution_count": 3,
     "metadata": {},
     "output_type": "execute_result"
    }
   ],
   "source": [
    "raw_rdd = sc.textFile(\"car_data.csv\") #THE FIRST LINE IS HEADERS!!!!!!!!\n",
    "raw_rdd.take(5)"
   ]
  },
  {
   "cell_type": "code",
   "execution_count": 4,
   "id": "indie-worse",
   "metadata": {},
   "outputs": [],
   "source": [
    "def extract_vin_key_value(x):\n",
    "    x = list(x.split(\",\"))\n",
    "    key_value = (x[2], (x[3], x[4], x[5]))\n",
    "#     key_value = (x[2], (x[3]))\n",
    "\n",
    "    return key_value"
   ]
  },
  {
   "cell_type": "code",
   "execution_count": 5,
   "id": "fatty-mailing",
   "metadata": {},
   "outputs": [
    {
     "data": {
      "text/plain": [
       "[('VXIO456XLBB630221', ('Nissan', 'Altima', '2003')),\n",
       " ('INU45KIOOPA343980', ('Mercedes', 'C300', '2015')),\n",
       " ('VXIO456XLBB630221', ('', '', '')),\n",
       " ('VXIO456XLBB630221', ('', '', '')),\n",
       " ('VOME254OOXW344325', ('Mercedes', 'E350', '2015')),\n",
       " ('VOME254OOXW344325', ('', '', '')),\n",
       " ('VXIO456XLBB630221', ('', '', '')),\n",
       " ('EXOA00341AB123456', ('Mercedes', 'SL550', '2016')),\n",
       " ('VOME254OOXW344325', ('', '', '')),\n",
       " ('VOME254OOXW344325', ('', '', '')),\n",
       " ('EXOA00341AB123456', ('', '', '')),\n",
       " ('EXOA00341AB123456', ('', '', '')),\n",
       " ('VOME254OOXW344325', ('', '', '')),\n",
       " ('UXIA769ABCC447906', ('Toyota', 'Camery', '2017')),\n",
       " ('UXIA769ABCC447906', ('', '', '')),\n",
       " ('INU45KIOOPA343980', ('', '', ''))]"
      ]
     },
     "execution_count": 5,
     "metadata": {},
     "output_type": "execute_result"
    }
   ],
   "source": [
    "# Iterates through each line and applies this function\n",
    "# extract the key and the value\n",
    "vin_kv = raw_rdd.map(lambda x: extract_vin_key_value(x))\n",
    "vin_kv.take(50)"
   ]
  },
  {
   "cell_type": "code",
   "execution_count": 6,
   "id": "centered-pledge",
   "metadata": {},
   "outputs": [],
   "source": [
    "def populate_make(list_):\n",
    "    print(\"check\")\n",
    "    buffer = []\n",
    "    out_list = []\n",
    "    groupMake = None\n",
    "    groupYear = None\n",
    "    for record in list_:\n",
    "        print(record)\n",
    "        type, make, year = record.split(',')\n",
    "        buffer.append((type, make, year))\n",
    "        if groupMake == None:\n",
    "            groupMake = make\n",
    "        if groupYear == None:\n",
    "            groupYear = year\n",
    "    for item in buffer:\n",
    "        #out_list.append()\n",
    "        if (item[0] == 'A'):\n",
    "            out_list.append(\"{},{}\".format(groupMake, groupYear))\n",
    "    return out_list"
   ]
  },
  {
   "cell_type": "code",
   "execution_count": 8,
   "id": "registered-documentary",
   "metadata": {},
   "outputs": [],
   "source": [
    "enhance_make = vin_kv.groupByKey().flatMap(lambda kv: populate_make(kv[1][0]))\n",
    "# enhance_make = vin_kv.groupByKey().collect()\n",
    "# enhance_make.collect()\n",
    "\n",
    "\n",
    "# enhance_make = vin_kv.groupByKey().flatMap(lambda kv: list(kv[1]))\n",
    "# enhance_make = vin_kv.groupByKey().map(lambda kv: list(kv[1][0])).collect()\n",
    "# enhance_make.take(50)\n",
    "# enhance_make.collect()\n",
    "# vin_kv.groupByKey().map(lambda kv: list(kv[1])).collect()\n"
   ]
  },
  {
   "cell_type": "code",
   "execution_count": 26,
   "id": "reserved-giant",
   "metadata": {},
   "outputs": [],
   "source": [
    "def extract_make_key_value(x):\n",
    "    x = list(x.split(\",\"))\n",
    "    key_value = ((x[1][0], x[1][2]), 1)\n",
    "\n",
    "    return key_value"
   ]
  },
  {
   "cell_type": "code",
   "execution_count": 10,
   "id": "paperback-building",
   "metadata": {},
   "outputs": [],
   "source": [
    "# Kartik\n",
    "def extract_make_key_value(line):\n",
    "    fields = line.strip().split(\",\")\n",
    "    make = fields[0]\n",
    "    year = fields[1]\n",
    "    key = \"{}-{}\".format(make, year)\n",
    "    value = 1\n",
    "    return (key, value)"
   ]
  },
  {
   "cell_type": "code",
   "execution_count": 11,
   "id": "binding-genealogy",
   "metadata": {},
   "outputs": [],
   "source": [
    "make_kv = enhance_make.map(lambda x: extract_make_key_value(x))"
   ]
  },
  {
   "cell_type": "code",
   "execution_count": 21,
   "id": "plastic-vinyl",
   "metadata": {},
   "outputs": [],
   "source": [
    "final = make_kv.reduceByKey(lambda x:(x[0],x[1]))"
   ]
  },
  {
   "cell_type": "code",
   "execution_count": 19,
   "id": "african-sally",
   "metadata": {},
   "outputs": [],
   "source": [
    "# for t in final.collect():\n",
    "#     print(t[0], [v for v in t[1]])"
   ]
  },
  {
   "cell_type": "code",
   "execution_count": null,
   "id": "graduate-crown",
   "metadata": {},
   "outputs": [],
   "source": [
    "# https://backtobazics.com/big-data/spark/apache-spark-groupbykey-example/"
   ]
  }
 ],
 "metadata": {
  "kernelspec": {
   "display_name": "Python 3",
   "language": "python",
   "name": "python3"
  },
  "language_info": {
   "codemirror_mode": {
    "name": "ipython",
    "version": 3
   },
   "file_extension": ".py",
   "mimetype": "text/x-python",
   "name": "python",
   "nbconvert_exporter": "python",
   "pygments_lexer": "ipython3",
   "version": "3.8.8"
  }
 },
 "nbformat": 4,
 "nbformat_minor": 5
}
